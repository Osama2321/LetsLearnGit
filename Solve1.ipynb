{
 "cells": [
  {
   "cell_type": "code",
   "execution_count": 11,
   "id": "ad5c96db",
   "metadata": {},
   "outputs": [
    {
     "name": "stdout",
     "output_type": "stream",
     "text": [
      "Enter: 5\n"
     ]
    },
    {
     "data": {
      "text/plain": [
       "120"
      ]
     },
     "execution_count": 11,
     "metadata": {},
     "output_type": "execute_result"
    }
   ],
   "source": [
    "def Factorial(num):\n",
    "    try:\n",
    "        fact=1\n",
    "        for i in range(1,n+1):\n",
    "            fact=fact*i\n",
    "        return fact\n",
    "    except:\n",
    "        pass\n",
    "n=int(input(\"Enter: \"))\n",
    "Factorial(n)"
   ]
  },
  {
   "cell_type": "code",
   "execution_count": null,
   "id": "14f3b2e2",
   "metadata": {},
   "outputs": [],
   "source": []
  }
 ],
 "metadata": {
  "kernelspec": {
   "display_name": "Python 3 (ipykernel)",
   "language": "python",
   "name": "python3"
  },
  "language_info": {
   "codemirror_mode": {
    "name": "ipython",
    "version": 3
   },
   "file_extension": ".py",
   "mimetype": "text/x-python",
   "name": "python",
   "nbconvert_exporter": "python",
   "pygments_lexer": "ipython3",
   "version": "3.10.9"
  }
 },
 "nbformat": 4,
 "nbformat_minor": 5
}
